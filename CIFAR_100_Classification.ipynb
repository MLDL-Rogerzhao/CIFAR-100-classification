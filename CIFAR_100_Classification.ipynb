{
 "cells": [
  {
   "cell_type": "markdown",
   "metadata": {},
   "source": [
    "# *Some preprocessing on the device and importing the required libraries.*"
   ]
  },
  {
   "cell_type": "code",
   "execution_count": 2,
   "metadata": {},
   "outputs": [],
   "source": [
    "import tensorflow as tf  \n",
    "(x_train, y_train), (x_test, y_test) = tf.keras.datasets.cifar100.load_data(label_mode='fine')"
   ]
  },
  {
   "cell_type": "code",
   "execution_count": 3,
   "metadata": {},
   "outputs": [],
   "source": [
    "from matplotlib import pyplot as plt\n",
    "import numpy as np\n",
    "import pandas as pd\n",
    "import pickle\n",
    "import os\n",
    "import seaborn as sns\n",
    "import sklearn\n",
    "import matplotlib.image as mpimg\n",
    "\n",
    "from sklearn.metrics import classification_report\n",
    "from sklearn.metrics import confusion_matrix\n",
    "\n",
    "plt.style.use('dark_background')\n",
    "\n",
    "from keras.models import Sequential\n",
    "from keras.preprocessing.image import ImageDataGenerator # Data Augmentation\n",
    "from keras.layers import BatchNormalization # Has a very good result and in the speed\n",
    "from keras.layers import Conv2D, MaxPooling2D, Dense, Flatten,Dropout\n",
    "from keras.utils import normalize, to_categorical\n",
    "from sklearn.model_selection import train_test_split\n",
    "from tensorflow.keras import layers\n",
    "from tensorflow.keras.applications.resnet import preprocess_input\n",
    "from tensorflow.keras.regularizers import l1, l2, l1_l2  \n",
    "from tensorflow.keras.utils import plot_model"
   ]
  },
  {
   "cell_type": "code",
   "execution_count": 4,
   "metadata": {},
   "outputs": [],
   "source": [
    "import pydot\n",
    "import graphviz"
   ]
  },
  {
   "cell_type": "code",
   "execution_count": 5,
   "metadata": {},
   "outputs": [
    {
     "name": "stdout",
     "output_type": "stream",
     "text": [
      "1 Physical GPUs, 1 Logical GPUs\n"
     ]
    }
   ],
   "source": [
    "# Force memory can only be used by the GPU\n",
    "gpus = tf.config.list_physical_devices('GPU')\n",
    "if gpus:\n",
    "  try:\n",
    "    # Currently, memory growth needs to be the same across GPUs\n",
    "    for gpu in gpus:\n",
    "      tf.config.experimental.set_memory_growth(gpu, True)\n",
    "    logical_gpus = tf.config.list_logical_devices('GPU')\n",
    "    print(len(gpus), \"Physical GPUs,\", len(logical_gpus), \"Logical GPUs\")\n",
    "  except RuntimeError as e:\n",
    "    # Memory growth must be set before GPUs have been initialized\n",
    "    print(e)"
   ]
  },
  {
   "cell_type": "markdown",
   "metadata": {},
   "source": [
    "## Step1: Data acquistion and preprocessing"
   ]
  },
  {
   "cell_type": "markdown",
   "metadata": {},
   "source": [
    "- ## *1. Labelling all the catergories for the dataset to better visualization after*"
   ]
  },
  {
   "cell_type": "code",
   "execution_count": 6,
   "metadata": {},
   "outputs": [
    {
     "name": "stdout",
     "output_type": "stream",
     "text": [
      "CIFAR-100 Fine Label Names:\n",
      "['apple', 'aquarium_fish', 'baby', 'bear', 'beaver', 'bed', 'bee', 'beetle', 'bicycle', 'bottle', 'bowl', 'boy', 'bridge', 'bus', 'butterfly', 'camel', 'can', 'castle', 'caterpillar', 'cattle', 'chair', 'chimpanzee', 'clock', 'cloud', 'cockroach', 'couch', 'crab', 'crocodile', 'cup', 'dinosaur', 'dolphin', 'elephant', 'flatfish', 'forest', 'fox', 'girl', 'hamster', 'house', 'kangaroo', 'keyboard', 'lamp', 'lawn_mower', 'leopard', 'lion', 'lizard', 'lobster', 'man', 'maple_tree', 'motorcycle', 'mountain', 'mouse', 'mushroom', 'oak_tree', 'orange', 'orchid', 'otter', 'palm_tree', 'pear', 'pickup_truck', 'pine_tree', 'plain', 'plate', 'poppy', 'porcupine', 'possum', 'rabbit', 'raccoon', 'ray', 'road', 'rocket', 'rose', 'sea', 'seal', 'shark', 'shrew', 'skunk', 'skyscraper', 'snail', 'snake', 'spider', 'squirrel', 'streetcar', 'sunflower', 'sweet_pepper', 'table', 'tank', 'telephone', 'television', 'tiger', 'tractor', 'train', 'trout', 'tulip', 'turtle', 'wardrobe', 'whale', 'willow_tree', 'wolf', 'woman', 'worm']\n",
      "Total number of fine labels: 100\n"
     ]
    }
   ],
   "source": [
    "# Cache path for CIFAR-100 dataset\n",
    "cifar100_path = os.path.expanduser('~/.keras/datasets/cifar-100-python')\n",
    "\n",
    "# Loading metadata files\n",
    "def load_cifar100_meta(file_path):\n",
    "    with open(file_path, 'rb') as f:\n",
    "        meta = pickle.load(f, encoding='bytes')\n",
    "    return meta\n",
    "\n",
    "# Extract fine-grained category names\n",
    "meta = load_cifar100_meta(os.path.join(cifar100_path, 'meta'))\n",
    "fine_label_names = [label.decode('utf-8') for label in meta[b'fine_label_names']]\n",
    "\n",
    "# Print the category name to confirm\n",
    "print(\"CIFAR-100 Fine Label Names:\")\n",
    "print(fine_label_names)\n",
    "print(f\"Total number of fine labels: {len(fine_label_names)}\")"
   ]
  },
  {
   "cell_type": "code",
   "execution_count": 7,
   "metadata": {},
   "outputs": [
    {
     "data": {
      "text/plain": [
       "100"
      ]
     },
     "execution_count": 7,
     "metadata": {},
     "output_type": "execute_result"
    }
   ],
   "source": [
    "label_names = [\n",
    "    'apple', 'aquarium_fish', 'baby', 'bear', 'beaver', 'bed', 'bee', 'beetle', 'bicycle', 'bottle',\n",
    "    'bowl', 'boy', 'bridge', 'bus', 'butterfly', 'camel', 'can', 'castle', 'caterpillar', 'cattle',\n",
    "    'chair', 'chimpanzee', 'clock', 'cloud', 'cockroach', 'couch', 'crab', 'crocodile', 'cup', 'dinosaur',\n",
    "    'dolphin', 'elephant', 'flatfish', 'forest', 'fox', 'girl', 'hamster', 'house', 'kangaroo', 'keyboard',\n",
    "    'lamp', 'lawn_mower', 'leopard', 'lion', 'lizard', 'lobster', 'man', 'maple_tree', 'motorcycle', 'mountain',\n",
    "    'mouse', 'mushroom', 'oak_tree', 'orange', 'orchid', 'otter', 'palm_tree', 'pear', 'pickup_truck', 'pine_tree',\n",
    "    'plain', 'plate', 'poppy', 'porcupine', 'possum', 'rabbit', 'raccoon', 'ray', 'road', 'rocket',\n",
    "    'rose', 'sea', 'seal', 'shark', 'shrew', 'skunk', 'skyscraper', 'snail', 'snake', 'spider',\n",
    "    'squirrel', 'streetcar', 'sunflower', 'sweet_pepper', 'table', 'tank', 'telephone', 'television', 'tiger', 'tractor',\n",
    "    'train', 'trout', 'tulip', 'turtle', 'wardrobe', 'whale', 'willow_tree', 'wolf', 'woman', 'worm'\n",
    "]\n",
    "len(label_names)"
   ]
  },
  {
   "cell_type": "markdown",
   "metadata": {},
   "source": [
    "- ## *2. Using One-Hot Encoding on y_train and y_test*"
   ]
  },
  {
   "cell_type": "code",
   "execution_count": 8,
   "metadata": {},
   "outputs": [
    {
     "name": "stdout",
     "output_type": "stream",
     "text": [
      "The y_train shape has been changed to: (50000, 100)\n",
      "The y_train shape has been changed to: (10000, 100)\n"
     ]
    }
   ],
   "source": [
    "y_train = to_categorical(y_train)\n",
    "y_test = to_categorical(y_test)\n",
    "\n",
    "print('The y_train shape has been changed to:',y_train.shape)\n",
    "print('The y_train shape has been changed to:',y_test.shape)\n",
    "\n",
    "# The integer labels are converted into a format suitable for the multiclassification task,\n",
    "# but care needs to be taken with the continuity of the labels and the choice of the loss function.\n"
   ]
  },
  {
   "cell_type": "markdown",
   "metadata": {},
   "source": [
    "*The integer labels are converted into a format suitable for the multiclassification task, but care needs to be taken with the continuity of the labels and the choice of the loss function. Then we will choose the softmax as output activations functions and categorical_crossentropy as loss functions*"
   ]
  },
  {
   "cell_type": "markdown",
   "metadata": {},
   "source": [
    "# *3.Normalizing the x_train and x_test changing the pixel values from 0-255 into 0-1*"
   ]
  },
  {
   "cell_type": "code",
   "execution_count": 9,
   "metadata": {},
   "outputs": [],
   "source": [
    "\n",
    "# x_train = preprocess_input(x_train)\n",
    "# x_test = preprocess_input(x_test)\n",
    "\n",
    "x_train = normalize(x_train,axis=1)\n",
    "x_test  = normalize(x_test,axis=1)\n",
    "\n",
    "\n"
   ]
  },
  {
   "cell_type": "code",
   "execution_count": 10,
   "metadata": {},
   "outputs": [
    {
     "data": {
      "text/plain": [
       "array([[[[0.21733476, 0.20371545, 0.23888911],\n",
       "         [0.22833628, 0.21287664, 0.25510525],\n",
       "         [0.23354998, 0.21622215, 0.26106229],\n",
       "         ...,\n",
       "         [0.31908313, 0.36437089, 0.42761323],\n",
       "         [0.3394965 , 0.37051932, 0.43367069],\n",
       "         [0.29095579, 0.31267596, 0.34960657]],\n",
       "\n",
       "        [[0.21733476, 0.20371545, 0.23888911],\n",
       "         [0.22744084, 0.21204183, 0.25410484],\n",
       "         [0.23263409, 0.21537422, 0.26003852],\n",
       "         ...,\n",
       "         [0.27817504, 0.31282574, 0.33234189],\n",
       "         [0.25782517, 0.27788949, 0.27635877],\n",
       "         [0.2334041 , 0.24820669, 0.23656013]],\n",
       "\n",
       "        [[0.21733476, 0.20371545, 0.23888911],\n",
       "         [0.22744084, 0.21204183, 0.25410484],\n",
       "         [0.23354998, 0.21622215, 0.26106229],\n",
       "         ...,\n",
       "         [0.30926519, 0.35370638, 0.37443853],\n",
       "         [0.26583216, 0.29443053, 0.27635877],\n",
       "         [0.19343764, 0.21436032, 0.18213037]],\n",
       "\n",
       "        ...,\n",
       "\n",
       "        [[0.12613939, 0.14779356, 0.07400878],\n",
       "         [0.12715197, 0.15193548, 0.05702353],\n",
       "         [0.12822352, 0.15177947, 0.06142642],\n",
       "         ...,\n",
       "         [0.04908971, 0.03021612, 0.00221561],\n",
       "         [0.10409091, 0.10255446, 0.03188755],\n",
       "         [0.12149802, 0.12410334, 0.04186905]],\n",
       "\n",
       "        [[0.10397977, 0.12542481, 0.06183012],\n",
       "         [0.10745237, 0.1293956 , 0.05802394],\n",
       "         [0.11540117, 0.1356688 , 0.07268793],\n",
       "         ...,\n",
       "         [0.03599912, 0.0284387 , 0.00664684],\n",
       "         [0.15533566, 0.18525966, 0.11904686],\n",
       "         [0.22541081, 0.25948881, 0.18213037]],\n",
       "\n",
       "        [[0.07414951, 0.09746386, 0.03840962],\n",
       "         [0.0787984 , 0.10184686, 0.0390161 ],\n",
       "         [0.09250411, 0.11362262, 0.05733133],\n",
       "         ...,\n",
       "         [0.05563501, 0.06398708, 0.02215613],\n",
       "         [0.16814685, 0.21999585, 0.12542437],\n",
       "         [0.22061483, 0.27882959, 0.16538275]]],\n",
       "\n",
       "\n",
       "       [[[0.17899938, 0.17881783, 0.17964581],\n",
       "         [0.18415523, 0.18407688, 0.18539112],\n",
       "         [0.186718  , 0.1868448 , 0.18799604],\n",
       "         ...,\n",
       "         [0.18447447, 0.18507295, 0.18584633],\n",
       "         [0.18135534, 0.18168374, 0.18225254],\n",
       "         [0.17835827, 0.17841602, 0.17855265]],\n",
       "\n",
       "        [[0.17899938, 0.17881783, 0.17964581],\n",
       "         [0.185611  , 0.18553204, 0.18685667],\n",
       "         [0.18819403, 0.18832183, 0.18948218],\n",
       "         ...,\n",
       "         [0.18593277, 0.18653598, 0.18731547],\n",
       "         [0.18278898, 0.18311997, 0.18369327],\n",
       "         [0.17835827, 0.17841602, 0.17855265]],\n",
       "\n",
       "        [[0.17899938, 0.17881783, 0.17964581],\n",
       "         [0.185611  , 0.18553204, 0.18685667],\n",
       "         [0.18819403, 0.18832183, 0.18948218],\n",
       "         ...,\n",
       "         [0.18593277, 0.18653598, 0.18731547],\n",
       "         [0.18278898, 0.18311997, 0.18369327],\n",
       "         [0.17835827, 0.17841602, 0.17855265]],\n",
       "\n",
       "        ...,\n",
       "\n",
       "        [[0.17899938, 0.17881783, 0.17964581],\n",
       "         [0.185611  , 0.18553204, 0.18685667],\n",
       "         [0.18819403, 0.18832183, 0.18948218],\n",
       "         ...,\n",
       "         [0.18593277, 0.18653598, 0.18731547],\n",
       "         [0.18278898, 0.18311997, 0.18369327],\n",
       "         [0.17835827, 0.17841602, 0.17855265]],\n",
       "\n",
       "        [[0.17899938, 0.17881783, 0.17964581],\n",
       "         [0.185611  , 0.18553204, 0.18685667],\n",
       "         [0.18819403, 0.18832183, 0.18948218],\n",
       "         ...,\n",
       "         [0.18593277, 0.18653598, 0.18731547],\n",
       "         [0.18278898, 0.18311997, 0.18369327],\n",
       "         [0.17835827, 0.17841602, 0.17855265]],\n",
       "\n",
       "        [[0.17899938, 0.17881783, 0.17964581],\n",
       "         [0.18415523, 0.18407688, 0.18539112],\n",
       "         [0.186718  , 0.1868448 , 0.18799604],\n",
       "         ...,\n",
       "         [0.18447447, 0.18507295, 0.18584633],\n",
       "         [0.18135534, 0.18168374, 0.18225254],\n",
       "         [0.17835827, 0.17841602, 0.17855265]]],\n",
       "\n",
       "\n",
       "       [[[0.18315475, 0.18663609, 0.19342885],\n",
       "         [0.18902922, 0.19691955, 0.2068986 ],\n",
       "         [0.19397881, 0.20372264, 0.21413261],\n",
       "         ...,\n",
       "         [0.22214755, 0.24852135, 0.27681876],\n",
       "         [0.21284706, 0.23226689, 0.249916  ],\n",
       "         [0.19025519, 0.19858458, 0.20172271]],\n",
       "\n",
       "        [[0.18315475, 0.18738263, 0.19108898],\n",
       "         [0.18902922, 0.19691955, 0.20264142],\n",
       "         [0.19397881, 0.20290118, 0.20965284],\n",
       "         ...,\n",
       "         [0.22303614, 0.24951543, 0.27231764],\n",
       "         [0.21369845, 0.23412502, 0.24686824],\n",
       "         [0.19101927, 0.19937892, 0.19926268]],\n",
       "\n",
       "        [[0.18388737, 0.18738263, 0.19030903],\n",
       "         [0.19055365, 0.19612871, 0.20178999],\n",
       "         [0.19633482, 0.20125826, 0.20875689],\n",
       "         ...,\n",
       "         [0.22214755, 0.24752726, 0.26781652],\n",
       "         [0.21284706, 0.23133782, 0.24382049],\n",
       "         [0.19101927, 0.19779024, 0.19844267]],\n",
       "\n",
       "        ...,\n",
       "\n",
       "        [[0.1619088 , 0.15901395, 0.14897141],\n",
       "         [0.16844943, 0.16291336, 0.14985248],\n",
       "         [0.17670134, 0.17004269, 0.16216737],\n",
       "         ...,\n",
       "         [0.17682945, 0.17495903, 0.15078745],\n",
       "         [0.17623737, 0.17931004, 0.16762659],\n",
       "         [0.17802996, 0.18190347, 0.18532249]],\n",
       "\n",
       "        [[0.16483928, 0.16647939, 0.15911083],\n",
       "         [0.17302272, 0.1731943 , 0.16688117],\n",
       "         [0.1798427 , 0.17743585, 0.17919046],\n",
       "         ...,\n",
       "         [0.1812724 , 0.1839058 , 0.1699172 ],\n",
       "         [0.18049431, 0.18674258, 0.18286537],\n",
       "         [0.17879403, 0.18428649, 0.18696251]],\n",
       "\n",
       "        [[0.17070023, 0.17394484, 0.17626984],\n",
       "         [0.17835822, 0.18347524, 0.19072134],\n",
       "         [0.18455473, 0.18893632, 0.20158927],\n",
       "         ...,\n",
       "         [0.19460125, 0.20776385, 0.21830422],\n",
       "         [0.18985958, 0.20067859, 0.21029517],\n",
       "         [0.17726588, 0.18269781, 0.18696251]]],\n",
       "\n",
       "\n",
       "       ...,\n",
       "\n",
       "\n",
       "       [[[0.23431653, 0.24368123, 0.25387401],\n",
       "         [0.37805309, 0.43808533, 0.50580549],\n",
       "         [0.38941774, 0.47171623, 0.5691517 ],\n",
       "         ...,\n",
       "         [0.32689562, 0.39816695, 0.50132796],\n",
       "         [0.34573217, 0.40142276, 0.50121423],\n",
       "         [0.26152867, 0.27690015, 0.3037185 ]],\n",
       "\n",
       "        [[0.21258556, 0.21272173, 0.2140095 ],\n",
       "         [0.29299114, 0.31534591, 0.33795973],\n",
       "         [0.28876315, 0.32328828, 0.35731497],\n",
       "         ...,\n",
       "         [0.22868664, 0.2573306 , 0.30260336],\n",
       "         [0.2344966 , 0.25353016, 0.300277  ],\n",
       "         [0.21098111, 0.21497733, 0.22941827]],\n",
       "\n",
       "        [[0.19746837, 0.19374655, 0.18778284],\n",
       "         [0.22683185, 0.22659586, 0.21547768],\n",
       "         [0.22936045, 0.23382486, 0.22204573],\n",
       "         ...,\n",
       "         [0.15292542, 0.14952994, 0.15130168],\n",
       "         [0.16384699, 0.15845635, 0.17158685],\n",
       "         [0.17252101, 0.16941148, 0.17597424]],\n",
       "\n",
       "        ...,\n",
       "\n",
       "        [[0.15211678, 0.15879228, 0.16050712],\n",
       "         [0.06143363, 0.06420216, 0.06350921],\n",
       "         [0.0462021 , 0.04066519, 0.0357315 ],\n",
       "         ...,\n",
       "         [0.13047765, 0.12518786, 0.11968641],\n",
       "         [0.12777059, 0.11796195, 0.11288609],\n",
       "         [0.14944496, 0.14721274, 0.14990398]],\n",
       "\n",
       "        [[0.17101327, 0.17876615, 0.18043938],\n",
       "         [0.13546902, 0.1567288 , 0.17465033],\n",
       "         [0.11715534, 0.13826165, 0.15823949],\n",
       "         ...,\n",
       "         [0.17116423, 0.17908819, 0.20098283],\n",
       "         [0.15783425, 0.1619776 , 0.18513319],\n",
       "         [0.16592785, 0.16941148, 0.18379532]],\n",
       "\n",
       "        [[0.21164074, 0.22270866, 0.22869642],\n",
       "         [0.28353982, 0.33989379, 0.39693256],\n",
       "         [0.285463  , 0.34972066, 0.42622572],\n",
       "         ...,\n",
       "         [0.27498516, 0.32514069, 0.40648213],\n",
       "         [0.27508255, 0.31339145, 0.39284359],\n",
       "         [0.22416743, 0.23951279, 0.26722014]]],\n",
       "\n",
       "\n",
       "       [[[0.23790192, 0.24528638, 0.28790409],\n",
       "         [0.22364579, 0.23258731, 0.3241875 ],\n",
       "         [0.22000958, 0.22757109, 0.31762022],\n",
       "         ...,\n",
       "         [0.21582218, 0.22812851, 0.31808636],\n",
       "         [0.21482409, 0.23136865, 0.3243549 ],\n",
       "         [0.23383983, 0.24471612, 0.29073971]],\n",
       "\n",
       "        [[0.16775135, 0.16883348, 0.16181471],\n",
       "         [0.17180736, 0.17205088, 0.16341158],\n",
       "         [0.16609995, 0.15961583, 0.14483482],\n",
       "         ...,\n",
       "         [0.16151854, 0.16121081, 0.15041293],\n",
       "         [0.15687812, 0.16102008, 0.145311  ],\n",
       "         [0.16846525, 0.17156728, 0.16409849]],\n",
       "\n",
       "        [[0.17690143, 0.17839009, 0.17232215],\n",
       "         [0.18365615, 0.18798152, 0.17395427],\n",
       "         [0.18649819, 0.18648186, 0.17024444],\n",
       "         ...,\n",
       "         [0.13784772, 0.12775196, 0.10602879],\n",
       "         [0.14274496, 0.13600725, 0.11157809],\n",
       "         [0.16217924, 0.15693751, 0.15339641]],\n",
       "\n",
       "        ...,\n",
       "\n",
       "        [[0.16622634, 0.16086964, 0.15551024],\n",
       "         [0.16588297, 0.15930637, 0.14232622],\n",
       "         [0.17192802, 0.16593725, 0.15753963],\n",
       "         ...,\n",
       "         [0.17544255, 0.17185681, 0.16027607],\n",
       "         [0.17807787, 0.17352649, 0.15828519],\n",
       "         [0.17349407, 0.16491739, 0.15874745]],\n",
       "\n",
       "        [[0.14945121, 0.14653472, 0.13239385],\n",
       "         [0.13774211, 0.13063123, 0.09224847],\n",
       "         [0.13987364, 0.13116945, 0.09655655],\n",
       "         ...,\n",
       "         [0.15594893, 0.14600224, 0.11589193],\n",
       "         [0.15405149, 0.14382376, 0.11676777],\n",
       "         [0.15966483, 0.15028762, 0.14269434]],\n",
       "\n",
       "        [[0.25925209, 0.26599237, 0.304716  ],\n",
       "         [0.23697567, 0.24373875, 0.31100914],\n",
       "         [0.23749379, 0.24021393, 0.30237445],\n",
       "         ...,\n",
       "         [0.22417659, 0.22964936, 0.28109957],\n",
       "         [0.22047736, 0.22511545, 0.2776478 ],\n",
       "         [0.20492415, 0.20481675, 0.22474358]]],\n",
       "\n",
       "\n",
       "       [[[0.16173277, 0.18308881, 0.19217794],\n",
       "         [0.12448561, 0.1553962 , 0.18187469],\n",
       "         [0.1057965 , 0.13977667, 0.1760113 ],\n",
       "         ...,\n",
       "         [0.17325415, 0.1763851 , 0.192171  ],\n",
       "         [0.1732948 , 0.18318394, 0.19156171],\n",
       "         [0.17288207, 0.18534463, 0.19048437]],\n",
       "\n",
       "        [[0.1512984 , 0.18582148, 0.19847886],\n",
       "         [0.11618657, 0.15768144, 0.18774162],\n",
       "         [0.10238371, 0.13977667, 0.18159896],\n",
       "         ...,\n",
       "         [0.17325415, 0.1763851 , 0.1951504 ],\n",
       "         [0.1732948 , 0.18056703, 0.1946267 ],\n",
       "         [0.16747951, 0.18534463, 0.19360707]],\n",
       "\n",
       "        [[0.15651559, 0.18308881, 0.19847886],\n",
       "         [0.12033609, 0.1553962 , 0.18774162],\n",
       "         [0.10238371, 0.13977667, 0.18159896],\n",
       "         ...,\n",
       "         [0.17325415, 0.18142467, 0.19664009],\n",
       "         [0.16787934, 0.18318394, 0.19922418],\n",
       "         [0.16207694, 0.18534463, 0.19829111]],\n",
       "\n",
       "        ...,\n",
       "\n",
       "        [[0.20347026, 0.11203942, 0.11971741],\n",
       "         [0.15768178, 0.09598001, 0.11147159],\n",
       "         [0.12968604, 0.08913295, 0.10895938],\n",
       "         ...,\n",
       "         [0.2111535 , 0.11087063, 0.11768612],\n",
       "         [0.20578757, 0.10991037, 0.11800202],\n",
       "         [0.21070003, 0.11013232, 0.1186624 ]],\n",
       "\n",
       "        [[0.20868745, 0.10657409, 0.11499172],\n",
       "         [0.1618313 , 0.09140953, 0.10853812],\n",
       "         [0.13309883, 0.0830557 , 0.10616555],\n",
       "         ...,\n",
       "         [0.2111535 , 0.10331127, 0.11321702],\n",
       "         [0.2166185 , 0.10729345, 0.11340453],\n",
       "         [0.21610259, 0.10476001, 0.11397836]],\n",
       "\n",
       "        [[0.20868745, 0.10657409, 0.11026603],\n",
       "         [0.16598082, 0.08912429, 0.10413793],\n",
       "         [0.13651162, 0.07900421, 0.10057789],\n",
       "         ...,\n",
       "         [0.22198188, 0.09575191, 0.10725823],\n",
       "         [0.21120303, 0.09944271, 0.10574207],\n",
       "         [0.21610259, 0.0993877 , 0.10461027]]]])"
      ]
     },
     "execution_count": 10,
     "metadata": {},
     "output_type": "execute_result"
    }
   ],
   "source": [
    "x_train"
   ]
  },
  {
   "cell_type": "markdown",
   "metadata": {},
   "source": [
    "## *4. Spliting the training set into validation set*"
   ]
  },
  {
   "cell_type": "code",
   "execution_count": 11,
   "metadata": {},
   "outputs": [],
   "source": [
    "x_train_split, x_val, y_train_split, y_val = train_test_split(\n",
    "    x_train, y_train,\n",
    "    test_size=0.2,\n",
    "    random_state=42,\n",
    "    stratify=np.argmax(y_train, axis=1)  # ensure all the catergories distributes the same when running the code each times.\n",
    ")\n"
   ]
  },
  {
   "cell_type": "markdown",
   "metadata": {},
   "source": [
    "## *5. Data Augmentation*"
   ]
  },
  {
   "cell_type": "code",
   "execution_count": 12,
   "metadata": {},
   "outputs": [],
   "source": [
    "IMG_SIZE = 224\n",
    "IMAGE = x_train_split[100]\n"
   ]
  },
  {
   "cell_type": "code",
   "execution_count": 13,
   "metadata": {},
   "outputs": [
    {
     "data": {
      "text/plain": [
       "<matplotlib.image.AxesImage at 0x157e75be500>"
      ]
     },
     "execution_count": 13,
     "metadata": {},
     "output_type": "execute_result"
    },
    {
     "data": {
      "image/png": "[encoded data removed]",
      "text/plain": [
       "<Figure size 640x480 with 1 Axes>"
      ]
     },
     "metadata": {},
     "output_type": "display_data"
    }
   ],
   "source": [
    "plt.imshow(x_train_split[100])"
   ]
  },
  {
   "cell_type": "code",
   "execution_count": 14,
   "metadata": {},
   "outputs": [
    {
     "name": "stdout",
     "output_type": "stream",
     "text": [
      "pixel range : 0.0 1.0\n",
      "data type: float64\n"
     ]
    }
   ],
   "source": [
    "print(\"pixel range :\", x_train_split.min(), x_train_split.max())\n",
    "print(\"data type:\", x_train_split.dtype)"
   ]
  },
  {
   "cell_type": "code",
   "execution_count": 15,
   "metadata": {},
   "outputs": [],
   "source": [
    "train_datagen = ImageDataGenerator(\n",
    "    rotation_range=15,\n",
    "    width_shift_range=0.1,\n",
    "    height_shift_range=0.1,\n",
    "    shear_range=0.1,\n",
    "    zoom_range=0.1,\n",
    "    horizontal_flip=True,\n",
    "    fill_mode='reflect'\n",
    ")\n",
    "\n",
    "train_generator = train_datagen.flow(x_train_split,y_train_split) # batch_size=20\n"
   ]
  },
  {
   "cell_type": "code",
   "execution_count": 16,
   "metadata": {},
   "outputs": [
    {
     "data": {
      "image/png": "[encoded data removed]",
      "text/plain": [
       "<Figure size 1000x1000 with 6 Axes>"
      ]
     },
     "metadata": {},
     "output_type": "display_data"
    }
   ],
   "source": [
    "import tensorflow as tf\n",
    "import matplotlib.pyplot as plt\n",
    "import numpy as np\n",
    "from tensorflow.keras.preprocessing.image import ImageDataGenerator\n",
    "\n",
    "\n",
    "IMAGE = x_train_split[100]  \n",
    "\n",
    "datagen_rotation = ImageDataGenerator(rotation_range=15, fill_mode='reflect')\n",
    "datagen_width_shift = ImageDataGenerator(width_shift_range=0.1, fill_mode='reflect')\n",
    "datagen_height_shift = ImageDataGenerator(height_shift_range=0.1, fill_mode='reflect')\n",
    "datagen_shear = ImageDataGenerator(shear_range=0.1, fill_mode='reflect')\n",
    "datagen_zoom = ImageDataGenerator(zoom_range=0.1, fill_mode='reflect')\n",
    "datagen_flip = ImageDataGenerator(horizontal_flip=True, fill_mode='reflect')\n",
    "\n",
    "augmented_images = []\n",
    "titles = [\n",
    "    \"Rotation (15°)\",\n",
    "    \"Width Shift (0.1)\",\n",
    "    \"Height Shift (0.1)\",\n",
    "    \"Shear (0.1)\",\n",
    "    \"Zoom (0.1)\",\n",
    "    \"Horizontal Flip\"\n",
    "]\n",
    "\n",
    "\n",
    "augmented_images.append(datagen_rotation.random_transform(IMAGE))  # 旋转\n",
    "augmented_images.append(datagen_width_shift.random_transform(IMAGE))  # 宽度平移\n",
    "augmented_images.append(datagen_height_shift.random_transform(IMAGE))  # 高度平移\n",
    "augmented_images.append(datagen_shear.random_transform(IMAGE))  # 剪切\n",
    "augmented_images.append(datagen_zoom.random_transform(IMAGE))  # 缩放\n",
    "augmented_images.append(datagen_flip.random_transform(IMAGE))  # 水平翻转\n",
    "\n",
    "\n",
    "plt.figure(figsize=(10, 10))\n",
    "for i in range(6):\n",
    "    ax = plt.subplot(3, 3, i+1)\n",
    "    plt.imshow(augmented_images[i])\n",
    "    plt.title(titles[i], fontsize=10)  \n",
    "    plt.axis('off')\n",
    "plt.tight_layout()\n",
    "plt.show()"
   ]
  },
  {
   "cell_type": "code",
   "execution_count": 16,
   "metadata": {},
   "outputs": [
    {
     "name": "stdout",
     "output_type": "stream",
     "text": [
      "------------------Dataset Shapes------------------\n",
      "Training set x shape:     (50000, 32, 32, 3)\n",
      "Validation set x shape:   (10000, 32, 32, 3)\n",
      "Testing set x shape:      (10000, 32, 32, 3)\n",
      "Training set y shape:     (50000, 100)\n",
      "Validation set y shape:   (10000, 100)\n",
      "Testing set y shape:      (10000, 100)\n",
      "--------------------------------------------------\n"
     ]
    }
   ],
   "source": [
    "# Printing all the dataset shapes\n",
    "print(\"Dataset Shapes\".center(50, '-'))\n",
    "print(f\"{'Training set x shape:':<25} {x_train.shape}\")\n",
    "print(f\"{'Validation set x shape:':<25} {x_val.shape}\")\n",
    "print(f\"{'Testing set x shape:':<25} {x_test.shape}\")\n",
    "print(f\"{'Training set y shape:':<25} {y_train.shape}\")\n",
    "print(f\"{'Validation set y shape:':<25} {y_val.shape}\")\n",
    "print(f\"{'Testing set y shape:':<25} {y_test.shape}\")\n",
    "print(\"-\" * 50)"
   ]
  },
  {
   "cell_type": "markdown",
   "metadata": {},
   "source": [
    "*Checking the values of y_train and x_train beforehand to check* "
   ]
  },
  {
   "cell_type": "code",
   "execution_count": 17,
   "metadata": {},
   "outputs": [
    {
     "data": {
      "text/plain": [
       "<matplotlib.image.AxesImage at 0x21fcd646920>"
      ]
     },
     "execution_count": 17,
     "metadata": {},
     "output_type": "execute_result"
    },
    {
     "data": {
      "image/png": "[encoded data removed]",
      "text/plain": [
       "<Figure size 640x480 with 1 Axes>"
      ]
     },
     "metadata": {},
     "output_type": "display_data"
    }
   ],
   "source": [
    "plt.imshow(x_train[100])"
   ]
  },
  {
   "cell_type": "code",
   "execution_count": 18,
   "metadata": {},
   "outputs": [
    {
     "data": {
      "text/plain": [
       "array([0., 0., 0., 0., 0., 0., 0., 0., 0., 0., 0., 0., 0., 0., 0., 0., 0.,\n",
       "       0., 0., 0., 0., 0., 0., 0., 0., 0., 0., 0., 0., 0., 0., 0., 0., 0.,\n",
       "       0., 0., 0., 0., 0., 0., 0., 0., 0., 0., 0., 0., 0., 0., 0., 0., 0.,\n",
       "       0., 0., 0., 0., 1., 0., 0., 0., 0., 0., 0., 0., 0., 0., 0., 0., 0.,\n",
       "       0., 0., 0., 0., 0., 0., 0., 0., 0., 0., 0., 0., 0., 0., 0., 0., 0.,\n",
       "       0., 0., 0., 0., 0., 0., 0., 0., 0., 0., 0., 0., 0., 0., 0.],\n",
       "      dtype=float32)"
      ]
     },
     "execution_count": 18,
     "metadata": {},
     "output_type": "execute_result"
    }
   ],
   "source": [
    "y_train[100]"
   ]
  },
  {
   "cell_type": "code",
   "execution_count": 19,
   "metadata": {},
   "outputs": [
    {
     "data": {
      "text/plain": [
       "array([[[0.19483839, 0.20835087, 0.20566984],\n",
       "        [0.19492628, 0.206924  , 0.19951552],\n",
       "        [0.19446482, 0.20624124, 0.19602544],\n",
       "        ...,\n",
       "        [0.22683494, 0.23619606, 0.19527996],\n",
       "        [0.22111425, 0.22529562, 0.18892498],\n",
       "        [0.22342626, 0.22588712, 0.19586114]],\n",
       "\n",
       "       [[0.18838678, 0.19532894, 0.18892927],\n",
       "        [0.19761492, 0.2039251 , 0.19951552],\n",
       "        [0.195844  , 0.2016239 , 0.19344616],\n",
       "        ...,\n",
       "        [0.22379018, 0.22954265, 0.1928691 ],\n",
       "        [0.22111425, 0.22360166, 0.19679685],\n",
       "        [0.20926544, 0.20902987, 0.17976297]],\n",
       "\n",
       "       [[0.18709646, 0.18954142, 0.17936323],\n",
       "        [0.19358196, 0.1949284 , 0.1870458 ],\n",
       "        [0.19032727, 0.19238922, 0.18054975],\n",
       "        ...,\n",
       "        [0.22074542, 0.22621594, 0.1928691 ],\n",
       "        [0.21954606, 0.22190771, 0.19942081],\n",
       "        [0.21241229, 0.21071559, 0.19049509]],\n",
       "\n",
       "       ...,\n",
       "\n",
       "       [[0.15225781, 0.14613499, 0.16979719],\n",
       "        [0.10620122, 0.10496145, 0.1022517 ],\n",
       "        [0.11171383, 0.11389442, 0.09285415],\n",
       "        ...,\n",
       "        [0.18268586, 0.16134519, 0.15911701],\n",
       "        [0.17877322, 0.15584358, 0.16006144],\n",
       "        [0.18409065, 0.16688675, 0.17976297]],\n",
       "\n",
       "       [[0.16387069, 0.15626316, 0.18892927],\n",
       "        [0.14921943, 0.14844547, 0.17956396],\n",
       "        [0.14343504, 0.14467669, 0.14701908],\n",
       "        ...,\n",
       "        [0.22683494, 0.20292901, 0.18563651],\n",
       "        [0.20072783, 0.17447706, 0.16006144],\n",
       "        [0.18881092, 0.16857248, 0.16903085]],\n",
       "\n",
       "       [[0.15096749, 0.1374537 , 0.15783964],\n",
       "        [0.16400694, 0.16044107, 0.20200946],\n",
       "        [0.1710187 , 0.17084163, 0.19344616],\n",
       "        ...,\n",
       "        [0.20552159, 0.19461224, 0.17117132],\n",
       "        [0.18034141, 0.16770125, 0.14431769],\n",
       "        [0.18566407, 0.17194392, 0.16903085]]])"
      ]
     },
     "execution_count": 19,
     "metadata": {},
     "output_type": "execute_result"
    }
   ],
   "source": [
    "x_train[100]"
   ]
  },
  {
   "cell_type": "code",
   "execution_count": 20,
   "metadata": {},
   "outputs": [],
   "source": [
    "from keras.models import Model\n",
    "from keras.layers import Input, Conv2D, MaxPooling2D, UpSampling2D,BatchNormalization,Dropout,GlobalAveragePooling2D \n",
    "from keras import backend as K"
   ]
  },
  {
   "cell_type": "code",
   "execution_count": 21,
   "metadata": {},
   "outputs": [],
   "source": [
    "IMAGE_HEIGHT= x_train.shape[1]\n",
    "IMAGE_WIDTH = x_train.shape[2]\n",
    "IMAGE_CHANNELS= x_train.shape[3]"
   ]
  },
  {
   "cell_type": "markdown",
   "metadata": {},
   "source": [
    "## Step2: Building a simple CNN model first"
   ]
  },
  {
   "cell_type": "markdown",
   "metadata": {},
   "source": [
    "*This is an initial version of CNN model that I built, it is used to gain a basic understanding of an overview framework for this Multi-classification task as an initial experiment.*"
   ]
  },
  {
   "cell_type": "markdown",
   "metadata": {},
   "source": [
    "*Some very vital model parameters definition which help better understand the model*\n",
    "- *Loss function (categorial crossentropy) : Quantifies the error between output of the algorithm and given target value, in order to find the golabl minimum value by the optimizer shown here as adam.*\n",
    "\n",
    "- *evaluated metrics: accuracy defined by the corrected number rate.*\n",
    "\n",
    "- *Optimizers update the model in response to the output of the loss function.*\n",
    "\n",
    "- *activation functions: importing non-linear factor to the results*"
   ]
  },
  {
   "cell_type": "code",
   "execution_count": null,
   "metadata": {},
   "outputs": [],
   "source": [
    "# CNN-1 model structures: \n",
    "# activation = 'relu'\n",
    "# model1 = Sequential()\n",
    "# model1.add(Conv2D(32, 3, activation = activation, padding = 'same', input_shape = (IMAGE_HEIGHT, IMAGE_WIDTH, IMAGE_CHANNELS)))\n",
    "# model1.add(BatchNormalization())\n",
    "\n",
    "# model1.add(Conv2D(32, 3, activation = activation, padding = 'same', kernel_initializer = 'he_uniform'))\n",
    "# model1.add(BatchNormalization())\n",
    "# model1.add(MaxPooling2D())\n",
    "\n",
    "# model1.add(Conv2D(64, 3, activation = activation, padding = 'same', kernel_initializer = 'he_uniform'))\n",
    "# model1.add(BatchNormalization())\n",
    "\n",
    "# model1.add(Conv2D(64, 3, activation = activation, padding = 'same', kernel_initializer = 'he_uniform'))\n",
    "# model1.add(BatchNormalization()) \n",
    "# model1.add(MaxPooling2D())\n",
    "\n",
    "# model1.add(Conv2D(128, 3, activation = activation, padding = 'same', kernel_initializer = 'he_uniform'))\n",
    "# model1.add(BatchNormalization())\n",
    "\n",
    "# model1.add(Conv2D(128, 3, activation = activation, padding = 'same', kernel_initializer = 'he_uniform'))\n",
    "# model1.add(BatchNormalization()) \n",
    "# model1.add(MaxPooling2D())\n",
    "\n",
    "# model1.add(Flatten())\n",
    "# model1.add(Dense(256, activation = activation, kernel_initializer = 'he_uniform'))\n",
    "# model1.add(Dense(100, activation = 'softmax'))\n",
    "\n",
    "# model.compile(optimizer = 'adam',loss = 'categorical_crossentropy', metrics = ['accuracy'])\n",
    "# print(model1.summary()) "
   ]
  },
  {
   "cell_type": "code",
   "execution_count": null,
   "metadata": {},
   "outputs": [],
   "source": [
    "# CNN-2 model structures: \n",
    "# activation = 'relu'\n",
    "# model2 = Sequential()\n",
    "# model2.add(Conv2D(32, 3, activation = activation, padding = 'same', input_shape = (IMAGE_HEIGHT, IMAGE_WIDTH, IMAGE_CHANNELS)))\n",
    "# model2.add(BatchNormalization())\n",
    "\n",
    "# model2.add(Conv2D(32, 3, activation = activation, padding = 'same', kernel_initializer = 'he_uniform'))\n",
    "# model2.add(BatchNormalization())\n",
    "# model2.add(MaxPooling2D())\n",
    "\n",
    "# model2.add(Conv2D(64, 3, activation = activation, padding = 'same', kernel_initializer = 'he_uniform'))\n",
    "# model2.add(BatchNormalization())\n",
    "\n",
    "# model2.add(Conv2D(64, 3, activation = activation, padding = 'same', kernel_initializer = 'he_uniform'))\n",
    "# model2.add(BatchNormalization()) \n",
    "# model2.add(MaxPooling2D())\n",
    "\n",
    "# model2.add(Conv2D(128, 3, activation = activation, padding = 'same', kernel_initializer = 'he_uniform'))\n",
    "# model2.add(BatchNormalization())\n",
    "\n",
    "# model2.add(Conv2D(128, 3, activation = activation, padding = 'same', kernel_initializer = 'he_uniform'))\n",
    "# model2.add(BatchNormalization()) \n",
    "# model2.add(MaxPooling2D())\n",
    "\n",
    "# model2.add(Flatten())\n",
    "# model2.add(Dense(1026, activation = activation, kernel_initializer = 'he_uniform'))\n",
    "# model2.add(Dense(100, activation = 'softmax'))\n",
    "\n",
    "# model1.compile(optimizer = 'adam',loss = 'categorical_crossentropy', metrics = ['accuracy'])\n",
    "# print(model2.summary()) "
   ]
  },
  {
   "cell_type": "code",
   "execution_count": null,
   "metadata": {},
   "outputs": [],
   "source": [
    "# callbacks = [\n",
    "#     tf.keras.callbacks.ModelCheckpoint(\n",
    "#         filepath=r\"C:\\vscodeproject\\Python\\EE992\\model_weight\\model_first_augmented_weight.h5\", \n",
    "#         save_best_only=True, \n",
    "#         verbose=1,\n",
    "#         monitor='val_loss', \n",
    "#         mode='min'           \n",
    "#     )]\n",
    "\n",
    " \n",
    "# history1 = model1.fit_generator(\n",
    "#     train_generator,\n",
    "#     steps_per_epoch=1000,\n",
    "#     epochs=50,\n",
    "#     validation_data=(x_val, y_val),\n",
    "#     callbacks=callbacks,  \n",
    "#     verbose=1,\n",
    "#     shuffle=False\n",
    "# )\n"
   ]
  },
  {
   "cell_type": "markdown",
   "metadata": {},
   "source": [
    "## Building more complex CNN model"
   ]
  },
  {
   "cell_type": "code",
   "execution_count": null,
   "metadata": {},
   "outputs": [],
   "source": [
    "\n",
    "# CNN-3 model structures: \n",
    "activation = 'relu'\n",
    "model3 = Sequential()\n",
    "model3.add(Conv2D(32, 3, activation = activation, padding = 'same', input_shape = (IMAGE_HEIGHT, IMAGE_WIDTH, IMAGE_CHANNELS)))\n",
    "model3.add(BatchNormalization())\n",
    "\n",
    "model3.add(Conv2D(32, 3, activation = activation, padding = 'same', kernel_initializer = 'he_uniform'))\n",
    "model3.add(BatchNormalization())\n",
    "model3.add(MaxPooling2D())\n",
    "\n",
    "model3.add(Conv2D(64, 3, activation = activation, padding = 'same', kernel_initializer = 'he_uniform'))\n",
    "model3.add(BatchNormalization())\n",
    "\n",
    "model3.add(Conv2D(64, 3, activation = activation, padding = 'same', kernel_initializer = 'he_uniform'))\n",
    "model3.add(BatchNormalization()) \n",
    "model3.add(MaxPooling2D())\n",
    "\n",
    "model3.add(Conv2D(128, 3, activation = activation, padding = 'same', kernel_initializer = 'he_uniform'))\n",
    "model3.add(BatchNormalization())\n",
    "\n",
    "model3.add(Conv2D(128, 3, activation = activation, padding = 'same', kernel_initializer = 'he_uniform'))\n",
    "model3.add(BatchNormalization()) \n",
    "model3.add(MaxPooling2D())\n",
    "\n",
    "model3.add(Conv2D(256, 3, activation = activation, padding = 'same', kernel_initializer = 'he_uniform'))\n",
    "model3.add(BatchNormalization())\n",
    "model3.add(Conv2D(256, 3, activation = activation, padding = 'same', kernel_initializer = 'he_uniform'))\n",
    "model3.add(BatchNormalization()) \n",
    "model3.add(MaxPooling2D())\n",
    "\n",
    "\n",
    "\n",
    "model3.add(Flatten())\n",
    "model3.add(Dense(1024, activation = activation, kernel_initializer = 'he_uniform'))\n",
    "model3.add(Dropout(0.2))\n",
    "model3.add(Dense(100, activation = 'softmax'))\n",
    "\n",
    "model3.compile(optimizer=tf.keras.optimizers.Adam(learning_rate=1e-4),loss = 'categorical_crossentropy', metrics = ['accuracy'])\n",
    "print(model3.summary()) "
   ]
  },
  {
   "cell_type": "code",
   "execution_count": null,
   "metadata": {},
   "outputs": [
    {
     "name": "stdout",
     "output_type": "stream",
     "text": [
      "Model: \"sequential_1\"\n",
      "_________________________________________________________________\n",
      " Layer (type)                Output Shape              Param #   \n",
      "=================================================================\n",
      " conv2d_6 (Conv2D)           (None, 32, 32, 32)        896       \n",
      "                                                                 \n",
      " batch_normalization_6 (Batc  (None, 32, 32, 32)       128       \n",
      " hNormalization)                                                 \n",
      "                                                                 \n",
      " conv2d_7 (Conv2D)           (None, 32, 32, 32)        9248      \n",
      "                                                                 \n",
      " batch_normalization_7 (Batc  (None, 32, 32, 32)       128       \n",
      " hNormalization)                                                 \n",
      "                                                                 \n",
      " max_pooling2d_3 (MaxPooling  (None, 16, 16, 32)       0         \n",
      " 2D)                                                             \n",
      "                                                                 \n",
      " conv2d_8 (Conv2D)           (None, 16, 16, 64)        18496     \n",
      "                                                                 \n",
      " batch_normalization_8 (Batc  (None, 16, 16, 64)       256       \n",
      " hNormalization)                                                 \n",
      "                                                                 \n",
      " conv2d_9 (Conv2D)           (None, 16, 16, 64)        36928     \n",
      "                                                                 \n",
      " batch_normalization_9 (Batc  (None, 16, 16, 64)       256       \n",
      " hNormalization)                                                 \n",
      "                                                                 \n",
      " max_pooling2d_4 (MaxPooling  (None, 8, 8, 64)         0         \n",
      " 2D)                                                             \n",
      "                                                                 \n",
      " conv2d_10 (Conv2D)          (None, 8, 8, 128)         73856     \n",
      "                                                                 \n",
      " batch_normalization_10 (Bat  (None, 8, 8, 128)        512       \n",
      " chNormalization)                                                \n",
      "                                                                 \n",
      " conv2d_11 (Conv2D)          (None, 8, 8, 128)         147584    \n",
      "                                                                 \n",
      " batch_normalization_11 (Bat  (None, 8, 8, 128)        512       \n",
      " chNormalization)                                                \n",
      "                                                                 \n",
      " max_pooling2d_5 (MaxPooling  (None, 4, 4, 128)        0         \n",
      " 2D)                                                             \n",
      "                                                                 \n",
      " flatten_1 (Flatten)         (None, 2048)              0         \n",
      "                                                                 \n",
      " dense_2 (Dense)             (None, 1907)              3907443   \n",
      "                                                                 \n",
      " dropout_1 (Dropout)         (None, 1907)              0         \n",
      "                                                                 \n",
      " dense_3 (Dense)             (None, 100)               190800    \n",
      "                                                                 \n",
      "=================================================================\n",
      "Total params: 4,387,043\n",
      "Trainable params: 4,386,147\n",
      "Non-trainable params: 896\n",
      "_________________________________________________________________\n",
      "None\n"
     ]
    }
   ],
   "source": [
    "# CNN-4 model structures: \n",
    "# activation = 'relu'\n",
    "# model4 = Sequential()\n",
    "# model4.add(Conv2D(32, 3, activation = activation, padding = 'same', input_shape = (IMAGE_HEIGHT, IMAGE_WIDTH, IMAGE_CHANNELS)))\n",
    "# model4.add(BatchNormalization())\n",
    "\n",
    "# model4.add(Conv2D(32, 3, activation = activation, padding = 'same', kernel_initializer = 'he_uniform'))\n",
    "# model4.add(BatchNormalization())\n",
    "# model4.add(MaxPooling2D())\n",
    "\n",
    "# model4.add(Conv2D(64, 3, activation = activation, padding = 'same', kernel_initializer = 'he_uniform'))\n",
    "# model4.add(BatchNormalization())\n",
    "\n",
    "# model4.add(Conv2D(64, 3, activation = activation, padding = 'same', kernel_initializer = 'he_uniform'))\n",
    "# model4.add(BatchNormalization()) \n",
    "# model4.add(MaxPooling2D())\n",
    "\n",
    "# model4.add(Conv2D(128, 3, activation = activation, padding = 'same', kernel_initializer = 'he_uniform'))\n",
    "# model4.add(BatchNormalization())\n",
    "\n",
    "# model4.add(Conv2D(128, 3, activation = activation, padding = 'same', kernel_initializer = 'he_uniform'))\n",
    "# model4.add(BatchNormalization()) \n",
    "# model4.add(MaxPooling2D()) \n",
    "\n",
    "# model4.add(Conv2D(256, 3, activation = activation, padding = 'same', kernel_initializer = 'he_uniform'))\n",
    "# model4.add(BatchNormalization())\n",
    "# model4.add(Conv2D(256, 3, activation = activation, padding = 'same', kernel_initializer = 'he_uniform'))\n",
    "# model4.add(BatchNormalization()) \n",
    "# model4.add(MaxPooling2D()) \n",
    "\n",
    "# model4.add(Conv2D(512, 3, activation = activation, padding = 'same', kernel_initializer = 'he_uniform'))\n",
    "# model4.add(BatchNormalization())\n",
    "# model4.add(Conv2D(512, 3, activation = activation, padding = 'same', kernel_initializer = 'he_uniform'))\n",
    "# model4.add(BatchNormalization()) \n",
    "# model4.add(MaxPooling2D()) \n",
    "\n",
    "# model4.add(Flatten())\n",
    "# model4.add(Dense(1024, activation = activation, kernel_initializer = 'he_uniform'))\n",
    "# model4.add(Dropout(0.2))\n",
    "# model4.add(Dense(100, activation = 'softmax'))\n",
    "\n",
    "# model4.compile(optimizer=tf.keras.optimizers.Adam(learning_rate=1e-4),loss = 'categorical_crossentropy', metrics = ['accuracy'])\n",
    "# print(model4.summary()) "
   ]
  },
  {
   "cell_type": "code",
   "execution_count": 29,
   "metadata": {},
   "outputs": [
    {
     "name": "stdout",
     "output_type": "stream",
     "text": [
      "Epoch 1/50\n"
     ]
    },
    {
     "name": "stderr",
     "output_type": "stream",
     "text": [
      "C:\\Users\\15489\\AppData\\Local\\Temp\\ipykernel_51764\\2487140190.py:21: UserWarning: `Model.fit_generator` is deprecated and will be removed in a future version. Please use `Model.fit`, which supports generators.\n",
      "  history3 = model3.fit_generator(\n"
     ]
    },
    {
     "name": "stdout",
     "output_type": "stream",
     "text": [
      " 999/1000 [============================>.] - ETA: 0s - loss: 7.8738 - accuracy: 0.0908\n",
      "Epoch 1: val_loss improved from inf to 7.03357, saving model to C:\\vscodeproject\\Python\\EE992\\model_weight\\model3_augmented_best_val_loss_reg.h5\n",
      "1000/1000 [==============================] - 36s 29ms/step - loss: 7.8729 - accuracy: 0.0909 - val_loss: 7.0336 - val_accuracy: 0.1641 - lr: 1.0000e-04\n",
      "Epoch 2/50\n",
      " 999/1000 [============================>.] - ETA: 0s - loss: 6.7603 - accuracy: 0.1675\n",
      "Epoch 2: val_loss improved from 7.03357 to 6.24077, saving model to C:\\vscodeproject\\Python\\EE992\\model_weight\\model3_augmented_best_val_loss_reg.h5\n",
      "1000/1000 [==============================] - 27s 27ms/step - loss: 6.7599 - accuracy: 0.1675 - val_loss: 6.2408 - val_accuracy: 0.2185 - lr: 1.0000e-04\n",
      "Epoch 3/50\n",
      "1000/1000 [==============================] - ETA: 0s - loss: 6.0054 - accuracy: 0.2135\n",
      "Epoch 3: val_loss improved from 6.24077 to 5.58614, saving model to C:\\vscodeproject\\Python\\EE992\\model_weight\\model3_augmented_best_val_loss_reg.h5\n",
      "1000/1000 [==============================] - 26s 26ms/step - loss: 6.0054 - accuracy: 0.2135 - val_loss: 5.5861 - val_accuracy: 0.2596 - lr: 1.0000e-04\n",
      "Epoch 4/50\n",
      "1000/1000 [==============================] - ETA: 0s - loss: 5.3925 - accuracy: 0.2491\n",
      "Epoch 4: val_loss improved from 5.58614 to 5.11971, saving model to C:\\vscodeproject\\Python\\EE992\\model_weight\\model3_augmented_best_val_loss_reg.h5\n",
      "1000/1000 [==============================] - 26s 26ms/step - loss: 5.3925 - accuracy: 0.2491 - val_loss: 5.1197 - val_accuracy: 0.2679 - lr: 1.0000e-04\n",
      "Epoch 5/50\n",
      " 999/1000 [============================>.] - ETA: 0s - loss: 4.8662 - accuracy: 0.2810\n",
      "Epoch 5: val_loss improved from 5.11971 to 4.78581, saving model to C:\\vscodeproject\\Python\\EE992\\model_weight\\model3_augmented_best_val_loss_reg.h5\n",
      "1000/1000 [==============================] - 23s 23ms/step - loss: 4.8660 - accuracy: 0.2809 - val_loss: 4.7858 - val_accuracy: 0.2762 - lr: 1.0000e-04\n",
      "Epoch 6/50\n",
      " 998/1000 [============================>.] - ETA: 0s - loss: 4.4486 - accuracy: 0.3068\n",
      "Epoch 6: val_loss improved from 4.78581 to 4.32109, saving model to C:\\vscodeproject\\Python\\EE992\\model_weight\\model3_augmented_best_val_loss_reg.h5\n",
      "1000/1000 [==============================] - 28s 28ms/step - loss: 4.4476 - accuracy: 0.3067 - val_loss: 4.3211 - val_accuracy: 0.3190 - lr: 1.0000e-04\n",
      "Epoch 7/50\n",
      " 999/1000 [============================>.] - ETA: 0s - loss: 4.1056 - accuracy: 0.3321\n",
      "Epoch 7: val_loss improved from 4.32109 to 3.97593, saving model to C:\\vscodeproject\\Python\\EE992\\model_weight\\model3_augmented_best_val_loss_reg.h5\n",
      "1000/1000 [==============================] - 26s 26ms/step - loss: 4.1051 - accuracy: 0.3322 - val_loss: 3.9759 - val_accuracy: 0.3550 - lr: 1.0000e-04\n",
      "Epoch 8/50\n",
      " 998/1000 [============================>.] - ETA: 0s - loss: 3.8202 - accuracy: 0.3602\n",
      "Epoch 8: val_loss improved from 3.97593 to 3.81621, saving model to C:\\vscodeproject\\Python\\EE992\\model_weight\\model3_augmented_best_val_loss_reg.h5\n",
      "1000/1000 [==============================] - 24s 24ms/step - loss: 3.8202 - accuracy: 0.3602 - val_loss: 3.8162 - val_accuracy: 0.3577 - lr: 1.0000e-04\n",
      "Epoch 9/50\n",
      " 998/1000 [============================>.] - ETA: 0s - loss: 3.5869 - accuracy: 0.3834\n",
      "Epoch 9: val_loss improved from 3.81621 to 3.57925, saving model to C:\\vscodeproject\\Python\\EE992\\model_weight\\model3_augmented_best_val_loss_reg.h5\n",
      "1000/1000 [==============================] - 22s 22ms/step - loss: 3.5878 - accuracy: 0.3832 - val_loss: 3.5793 - val_accuracy: 0.3741 - lr: 1.0000e-04\n",
      "Epoch 10/50\n",
      " 998/1000 [============================>.] - ETA: 0s - loss: 3.3862 - accuracy: 0.3961\n",
      "Epoch 10: val_loss improved from 3.57925 to 3.41124, saving model to C:\\vscodeproject\\Python\\EE992\\model_weight\\model3_augmented_best_val_loss_reg.h5\n",
      "1000/1000 [==============================] - 20s 20ms/step - loss: 3.3857 - accuracy: 0.3964 - val_loss: 3.4112 - val_accuracy: 0.3914 - lr: 1.0000e-04\n",
      "Epoch 11/50\n",
      "1000/1000 [==============================] - ETA: 0s - loss: 3.2043 - accuracy: 0.4187\n",
      "Epoch 11: val_loss improved from 3.41124 to 3.28470, saving model to C:\\vscodeproject\\Python\\EE992\\model_weight\\model3_augmented_best_val_loss_reg.h5\n",
      "1000/1000 [==============================] - 22s 22ms/step - loss: 3.2043 - accuracy: 0.4187 - val_loss: 3.2847 - val_accuracy: 0.4002 - lr: 1.0000e-04\n",
      "Epoch 12/50\n",
      " 999/1000 [============================>.] - ETA: 0s - loss: 3.0550 - accuracy: 0.4339\n",
      "Epoch 12: val_loss improved from 3.28470 to 3.14859, saving model to C:\\vscodeproject\\Python\\EE992\\model_weight\\model3_augmented_best_val_loss_reg.h5\n",
      "1000/1000 [==============================] - 20s 20ms/step - loss: 3.0545 - accuracy: 0.4340 - val_loss: 3.1486 - val_accuracy: 0.4168 - lr: 1.0000e-04\n",
      "Epoch 13/50\n",
      " 998/1000 [============================>.] - ETA: 0s - loss: 2.9211 - accuracy: 0.4481\n",
      "Epoch 13: val_loss did not improve from 3.14859\n",
      "1000/1000 [==============================] - 19s 19ms/step - loss: 2.9210 - accuracy: 0.4483 - val_loss: 3.2271 - val_accuracy: 0.3923 - lr: 1.0000e-04\n",
      "Epoch 14/50\n",
      "1000/1000 [==============================] - ETA: 0s - loss: 2.8019 - accuracy: 0.4667\n",
      "Epoch 14: val_loss improved from 3.14859 to 3.02552, saving model to C:\\vscodeproject\\Python\\EE992\\model_weight\\model3_augmented_best_val_loss_reg.h5\n",
      "1000/1000 [==============================] - 20s 20ms/step - loss: 2.8019 - accuracy: 0.4667 - val_loss: 3.0255 - val_accuracy: 0.4219 - lr: 1.0000e-04\n",
      "Epoch 15/50\n",
      "1000/1000 [==============================] - ETA: 0s - loss: 2.6840 - accuracy: 0.4769\n",
      "Epoch 15: val_loss improved from 3.02552 to 2.87194, saving model to C:\\vscodeproject\\Python\\EE992\\model_weight\\model3_augmented_best_val_loss_reg.h5\n",
      "1000/1000 [==============================] - 20s 20ms/step - loss: 2.6840 - accuracy: 0.4769 - val_loss: 2.8719 - val_accuracy: 0.4457 - lr: 1.0000e-04\n",
      "Epoch 16/50\n",
      "1000/1000 [==============================] - ETA: 0s - loss: 2.5882 - accuracy: 0.4916\n",
      "Epoch 16: val_loss did not improve from 2.87194\n",
      "1000/1000 [==============================] - 21s 21ms/step - loss: 2.5882 - accuracy: 0.4916 - val_loss: 2.8928 - val_accuracy: 0.4315 - lr: 1.0000e-04\n",
      "Epoch 17/50\n",
      " 999/1000 [============================>.] - ETA: 0s - loss: 2.4943 - accuracy: 0.5068\n",
      "Epoch 17: val_loss improved from 2.87194 to 2.81110, saving model to C:\\vscodeproject\\Python\\EE992\\model_weight\\model3_augmented_best_val_loss_reg.h5\n",
      "1000/1000 [==============================] - 22s 22ms/step - loss: 2.4942 - accuracy: 0.5067 - val_loss: 2.8111 - val_accuracy: 0.4484 - lr: 1.0000e-04\n",
      "Epoch 18/50\n",
      " 997/1000 [============================>.] - ETA: 0s - loss: 2.4047 - accuracy: 0.5166\n",
      "Epoch 18: val_loss improved from 2.81110 to 2.72074, saving model to C:\\vscodeproject\\Python\\EE992\\model_weight\\model3_augmented_best_val_loss_reg.h5\n",
      "1000/1000 [==============================] - 18s 18ms/step - loss: 2.4046 - accuracy: 0.5167 - val_loss: 2.7207 - val_accuracy: 0.4553 - lr: 1.0000e-04\n",
      "Epoch 19/50\n",
      " 999/1000 [============================>.] - ETA: 0s - loss: 2.3291 - accuracy: 0.5303\n",
      "Epoch 19: val_loss improved from 2.72074 to 2.70904, saving model to C:\\vscodeproject\\Python\\EE992\\model_weight\\model3_augmented_best_val_loss_reg.h5\n",
      "1000/1000 [==============================] - 19s 19ms/step - loss: 2.3291 - accuracy: 0.5302 - val_loss: 2.7090 - val_accuracy: 0.4573 - lr: 1.0000e-04\n",
      "Epoch 20/50\n",
      " 999/1000 [============================>.] - ETA: 0s - loss: 2.2396 - accuracy: 0.5440\n",
      "Epoch 20: val_loss improved from 2.70904 to 2.63885, saving model to C:\\vscodeproject\\Python\\EE992\\model_weight\\model3_augmented_best_val_loss_reg.h5\n",
      "1000/1000 [==============================] - 21s 21ms/step - loss: 2.2396 - accuracy: 0.5440 - val_loss: 2.6389 - val_accuracy: 0.4670 - lr: 1.0000e-04\n",
      "Epoch 21/50\n",
      " 999/1000 [============================>.] - ETA: 0s - loss: 2.1856 - accuracy: 0.5517\n",
      "Epoch 21: val_loss did not improve from 2.63885\n",
      "1000/1000 [==============================] - 20s 20ms/step - loss: 2.1862 - accuracy: 0.5515 - val_loss: 2.7266 - val_accuracy: 0.4540 - lr: 1.0000e-04\n",
      "Epoch 22/50\n",
      "1000/1000 [==============================] - ETA: 0s - loss: 2.1229 - accuracy: 0.5648\n",
      "Epoch 22: val_loss improved from 2.63885 to 2.59360, saving model to C:\\vscodeproject\\Python\\EE992\\model_weight\\model3_augmented_best_val_loss_reg.h5\n",
      "1000/1000 [==============================] - 20s 20ms/step - loss: 2.1229 - accuracy: 0.5648 - val_loss: 2.5936 - val_accuracy: 0.4732 - lr: 1.0000e-04\n",
      "Epoch 23/50\n",
      " 998/1000 [============================>.] - ETA: 0s - loss: 2.0591 - accuracy: 0.5807\n",
      "Epoch 23: val_loss improved from 2.59360 to 2.50615, saving model to C:\\vscodeproject\\Python\\EE992\\model_weight\\model3_augmented_best_val_loss_reg.h5\n",
      "1000/1000 [==============================] - 22s 22ms/step - loss: 2.0587 - accuracy: 0.5808 - val_loss: 2.5061 - val_accuracy: 0.4957 - lr: 1.0000e-04\n",
      "Epoch 24/50\n",
      " 999/1000 [============================>.] - ETA: 0s - loss: 2.0044 - accuracy: 0.5869\n",
      "Epoch 24: val_loss did not improve from 2.50615\n",
      "1000/1000 [==============================] - 21s 21ms/step - loss: 2.0051 - accuracy: 0.5867 - val_loss: 2.7995 - val_accuracy: 0.4379 - lr: 1.0000e-04\n",
      "Epoch 25/50\n",
      " 999/1000 [============================>.] - ETA: 0s - loss: 1.9626 - accuracy: 0.5944\n",
      "Epoch 25: val_loss did not improve from 2.50615\n",
      "1000/1000 [==============================] - 25s 25ms/step - loss: 1.9623 - accuracy: 0.5945 - val_loss: 2.5722 - val_accuracy: 0.4794 - lr: 1.0000e-04\n",
      "Epoch 26/50\n",
      " 999/1000 [============================>.] - ETA: 0s - loss: 1.9096 - accuracy: 0.6081\n",
      "Epoch 26: val_loss did not improve from 2.50615\n",
      "1000/1000 [==============================] - 20s 20ms/step - loss: 1.9098 - accuracy: 0.6080 - val_loss: 2.6360 - val_accuracy: 0.4668 - lr: 1.0000e-04\n",
      "Epoch 27/50\n",
      "1000/1000 [==============================] - ETA: 0s - loss: 1.8588 - accuracy: 0.6223\n",
      "Epoch 27: val_loss improved from 2.50615 to 2.50586, saving model to C:\\vscodeproject\\Python\\EE992\\model_weight\\model3_augmented_best_val_loss_reg.h5\n",
      "1000/1000 [==============================] - 40s 40ms/step - loss: 1.8588 - accuracy: 0.6223 - val_loss: 2.5059 - val_accuracy: 0.4957 - lr: 1.0000e-04\n",
      "Epoch 28/50\n",
      "1000/1000 [==============================] - ETA: 0s - loss: 1.8153 - accuracy: 0.6304\n",
      "Epoch 28: val_loss did not improve from 2.50586\n",
      "1000/1000 [==============================] - 58s 58ms/step - loss: 1.8153 - accuracy: 0.6304 - val_loss: 2.5547 - val_accuracy: 0.4829 - lr: 1.0000e-04\n",
      "Epoch 29/50\n",
      "1000/1000 [==============================] - ETA: 0s - loss: 1.7646 - accuracy: 0.6407\n",
      "Epoch 29: val_loss did not improve from 2.50586\n",
      "1000/1000 [==============================] - 56s 56ms/step - loss: 1.7646 - accuracy: 0.6407 - val_loss: 2.5910 - val_accuracy: 0.4751 - lr: 1.0000e-04\n",
      "Epoch 30/50\n",
      "1000/1000 [==============================] - ETA: 0s - loss: 1.7254 - accuracy: 0.6498\n",
      "Epoch 30: val_loss did not improve from 2.50586\n",
      "1000/1000 [==============================] - 56s 56ms/step - loss: 1.7254 - accuracy: 0.6498 - val_loss: 2.5632 - val_accuracy: 0.4741 - lr: 1.0000e-04\n",
      "Epoch 31/50\n",
      "1000/1000 [==============================] - ETA: 0s - loss: 1.7078 - accuracy: 0.6514\n",
      "Epoch 31: val_loss did not improve from 2.50586\n",
      "1000/1000 [==============================] - 56s 56ms/step - loss: 1.7078 - accuracy: 0.6514 - val_loss: 2.5102 - val_accuracy: 0.4927 - lr: 1.0000e-04\n",
      "Epoch 32/50\n",
      " 999/1000 [============================>.] - ETA: 0s - loss: 1.6716 - accuracy: 0.6644\n",
      "Epoch 32: val_loss did not improve from 2.50586\n",
      "1000/1000 [==============================] - 57s 57ms/step - loss: 1.6716 - accuracy: 0.6643 - val_loss: 2.5110 - val_accuracy: 0.4982 - lr: 1.0000e-04\n",
      "Epoch 33/50\n",
      "1000/1000 [==============================] - ETA: 0s - loss: 1.6360 - accuracy: 0.6742\n",
      "Epoch 33: val_loss did not improve from 2.50586\n",
      "1000/1000 [==============================] - 71s 71ms/step - loss: 1.6360 - accuracy: 0.6742 - val_loss: 2.5436 - val_accuracy: 0.4920 - lr: 1.0000e-04\n",
      "Epoch 34/50\n",
      "1000/1000 [==============================] - ETA: 0s - loss: 1.6209 - accuracy: 0.6759\n",
      "Epoch 34: val_loss improved from 2.50586 to 2.48074, saving model to C:\\vscodeproject\\Python\\EE992\\model_weight\\model3_augmented_best_val_loss_reg.h5\n",
      "1000/1000 [==============================] - 83s 83ms/step - loss: 1.6209 - accuracy: 0.6759 - val_loss: 2.4807 - val_accuracy: 0.5017 - lr: 1.0000e-04\n",
      "Epoch 35/50\n",
      "1000/1000 [==============================] - ETA: 0s - loss: 1.5829 - accuracy: 0.6859\n",
      "Epoch 35: val_loss improved from 2.48074 to 2.47788, saving model to C:\\vscodeproject\\Python\\EE992\\model_weight\\model3_augmented_best_val_loss_reg.h5\n",
      "1000/1000 [==============================] - 84s 84ms/step - loss: 1.5829 - accuracy: 0.6859 - val_loss: 2.4779 - val_accuracy: 0.5034 - lr: 1.0000e-04\n",
      "Epoch 36/50\n",
      "1000/1000 [==============================] - ETA: 0s - loss: 1.5639 - accuracy: 0.6885\n",
      "Epoch 36: val_loss did not improve from 2.47788\n",
      "1000/1000 [==============================] - 80s 80ms/step - loss: 1.5639 - accuracy: 0.6885 - val_loss: 2.5076 - val_accuracy: 0.4988 - lr: 1.0000e-04\n",
      "Epoch 37/50\n",
      "1000/1000 [==============================] - ETA: 0s - loss: 1.5374 - accuracy: 0.6989\n",
      "Epoch 37: val_loss did not improve from 2.47788\n",
      "1000/1000 [==============================] - 87s 87ms/step - loss: 1.5374 - accuracy: 0.6989 - val_loss: 2.5000 - val_accuracy: 0.5055 - lr: 1.0000e-04\n",
      "Epoch 38/50\n",
      " 999/1000 [============================>.] - ETA: 0s - loss: 1.5212 - accuracy: 0.7000\n",
      "Epoch 38: val_loss improved from 2.47788 to 2.45210, saving model to C:\\vscodeproject\\Python\\EE992\\model_weight\\model3_augmented_best_val_loss_reg.h5\n",
      "1000/1000 [==============================] - 85s 85ms/step - loss: 1.5208 - accuracy: 0.7001 - val_loss: 2.4521 - val_accuracy: 0.5174 - lr: 1.0000e-04\n",
      "Epoch 39/50\n",
      "1000/1000 [==============================] - ETA: 0s - loss: 1.4842 - accuracy: 0.7132\n",
      "Epoch 39: val_loss did not improve from 2.45210\n",
      "1000/1000 [==============================] - 85s 85ms/step - loss: 1.4842 - accuracy: 0.7132 - val_loss: 2.5711 - val_accuracy: 0.4975 - lr: 1.0000e-04\n",
      "Epoch 40/50\n",
      "1000/1000 [==============================] - ETA: 0s - loss: 1.4702 - accuracy: 0.7154\n",
      "Epoch 40: val_loss did not improve from 2.45210\n",
      "1000/1000 [==============================] - 85s 85ms/step - loss: 1.4702 - accuracy: 0.7154 - val_loss: 2.5326 - val_accuracy: 0.5044 - lr: 1.0000e-04\n",
      "Epoch 41/50\n",
      "1000/1000 [==============================] - ETA: 0s - loss: 1.4538 - accuracy: 0.7198\n",
      "Epoch 41: val_loss did not improve from 2.45210\n",
      "1000/1000 [==============================] - 85s 85ms/step - loss: 1.4538 - accuracy: 0.7198 - val_loss: 2.4935 - val_accuracy: 0.5118 - lr: 1.0000e-04\n",
      "Epoch 42/50\n",
      "1000/1000 [==============================] - ETA: 0s - loss: 1.4286 - accuracy: 0.7245\n",
      "Epoch 42: val_loss did not improve from 2.45210\n",
      "1000/1000 [==============================] - 85s 85ms/step - loss: 1.4286 - accuracy: 0.7245 - val_loss: 2.5128 - val_accuracy: 0.5072 - lr: 1.0000e-04\n",
      "Epoch 43/50\n",
      "1000/1000 [==============================] - ETA: 0s - loss: 1.4115 - accuracy: 0.7341\n",
      "Epoch 43: val_loss improved from 2.45210 to 2.45187, saving model to C:\\vscodeproject\\Python\\EE992\\model_weight\\model3_augmented_best_val_loss_reg.h5\n",
      "1000/1000 [==============================] - 83s 83ms/step - loss: 1.4115 - accuracy: 0.7341 - val_loss: 2.4519 - val_accuracy: 0.5187 - lr: 1.0000e-04\n",
      "Epoch 44/50\n",
      "1000/1000 [==============================] - ETA: 0s - loss: 1.3797 - accuracy: 0.7379\n",
      "Epoch 44: val_loss did not improve from 2.45187\n",
      "1000/1000 [==============================] - 83s 83ms/step - loss: 1.3797 - accuracy: 0.7379 - val_loss: 2.4835 - val_accuracy: 0.5150 - lr: 1.0000e-04\n",
      "Epoch 45/50\n",
      "1000/1000 [==============================] - ETA: 0s - loss: 1.3731 - accuracy: 0.7431\n",
      "Epoch 45: val_loss did not improve from 2.45187\n",
      "1000/1000 [==============================] - 80s 80ms/step - loss: 1.3731 - accuracy: 0.7431 - val_loss: 2.5174 - val_accuracy: 0.5110 - lr: 1.0000e-04\n",
      "Epoch 46/50\n",
      "1000/1000 [==============================] - ETA: 0s - loss: 1.3582 - accuracy: 0.7484\n",
      "Epoch 46: val_loss did not improve from 2.45187\n",
      "1000/1000 [==============================] - 79s 79ms/step - loss: 1.3582 - accuracy: 0.7484 - val_loss: 2.5854 - val_accuracy: 0.5012 - lr: 1.0000e-04\n",
      "Epoch 47/50\n",
      " 999/1000 [============================>.] - ETA: 0s - loss: 1.3395 - accuracy: 0.7529\n",
      "Epoch 47: val_loss did not improve from 2.45187\n",
      "1000/1000 [==============================] - 81s 81ms/step - loss: 1.3395 - accuracy: 0.7530 - val_loss: 2.5999 - val_accuracy: 0.5020 - lr: 1.0000e-04\n",
      "Epoch 48/50\n",
      "1000/1000 [==============================] - ETA: 0s - loss: 1.3228 - accuracy: 0.7546\n",
      "Epoch 48: val_loss did not improve from 2.45187\n",
      "1000/1000 [==============================] - 82s 82ms/step - loss: 1.3228 - accuracy: 0.7546 - val_loss: 2.5223 - val_accuracy: 0.5196 - lr: 1.0000e-04\n",
      "Epoch 49/50\n",
      "1000/1000 [==============================] - ETA: 0s - loss: 1.3147 - accuracy: 0.7608\n",
      "Epoch 49: val_loss did not improve from 2.45187\n",
      "1000/1000 [==============================] - 80s 80ms/step - loss: 1.3147 - accuracy: 0.7608 - val_loss: 2.5515 - val_accuracy: 0.5181 - lr: 1.0000e-04\n",
      "Epoch 50/50\n",
      "1000/1000 [==============================] - ETA: 0s - loss: 1.2912 - accuracy: 0.7663\n",
      "Epoch 50: val_loss did not improve from 2.45187\n",
      "1000/1000 [==============================] - 83s 83ms/step - loss: 1.2912 - accuracy: 0.7663 - val_loss: 2.4839 - val_accuracy: 0.5220 - lr: 1.0000e-04\n"
     ]
    }
   ],
   "source": [
    "callback1 = [\n",
    "    tf.keras.callbacks.ModelCheckpoint(\n",
    "        filepath=r\"C:\\vscodeproject\\Python\\EE992\\model_weight\\model3_augmented_best_val_loss_reg.h5\", \n",
    "        save_best_only=True, \n",
    "        verbose=1,\n",
    "        monitor='val_loss', \n",
    "        mode='min'           \n",
    "    )]\n",
    "\n",
    "callback2=[tf.keras.callbacks.ReduceLROnPlateau(\n",
    "    monitor='val_loss',\n",
    "    factor=0.1,\n",
    "    patience=10,\n",
    "    verbose=0,\n",
    "    mode='auto',\n",
    "    min_delta=0.0001,\n",
    "    cooldown=0,\n",
    "    min_lr=0.0,\n",
    ")]\n",
    "\n",
    "history3 = model3.fit_generator(\n",
    "    train_generator,\n",
    "    steps_per_epoch=1000,\n",
    "    epochs=50,\n",
    "    validation_data=(x_val, y_val),\n",
    "    callbacks=[callback1,callback2],  \n",
    "    verbose=1,\n",
    "    shuffle=False\n",
    ")\n"
   ]
  },
  {
   "cell_type": "markdown",
   "metadata": {},
   "source": [
    "## Transfer learning"
   ]
  },
  {
   "cell_type": "code",
   "execution_count": 30,
   "metadata": {},
   "outputs": [],
   "source": [
    "\n",
    "# IMG_SHAPE = (224,224,3)\n",
    "# INPUT_SHAPE=(32,32,3)\n",
    "# inputs=Input(shape=INPUT_SHAPE)\n",
    "# print(inputs)"
   ]
  },
  {
   "cell_type": "code",
   "execution_count": 31,
   "metadata": {},
   "outputs": [],
   "source": [
    "# from tensorflow.keras.applications import ResNet50\n",
    "# from tensorflow.keras.models import Model\n",
    "\n",
    "# IMG_SHAPE = (224,224,3)\n",
    "# INPUT_SHAPE=(32,32,3)\n",
    "\n",
    "\n",
    "# ###### Using the backbone of ResNet50 Model\n",
    "# base_model = ResNet50(weights='imagenet', include_top=False, input_shape=IMG_SHAPE)\n",
    "\n",
    "\n",
    "# base_model.trainable= False  \n",
    "# #for layer in base_model.layers[-7:]:\n",
    "#     #layer.trainable = True#\n",
    "\n",
    "# inputs=Input(shape=INPUT_SHAPE)\n",
    "# x = layers.Resizing(224,224)(inputs)\n",
    "# x = base_model(x)\n",
    "# x = GlobalAveragePooling2D()(x)\n",
    "# x = Dense(1024, activation='relu')(x)\n",
    "# x = Dense(512, activation='relu')(x)\n",
    "# outputs = Dense(100, activation='softmax')(x)\n",
    "\n",
    "# model3= Model(inputs,outputs)\n",
    "\n",
    "# model3.compile(optimizer=tf.keras.optimizers.Adam(learning_rate=1e-4), loss='categorical_crossentropy', metrics=['accuracy'])\n",
    "# print(model3.summary(expand_nested=True,show_trainable=True))"
   ]
  },
  {
   "cell_type": "code",
   "execution_count": 32,
   "metadata": {},
   "outputs": [],
   "source": [
    "# callbacks1 = [\n",
    "#     tf.keras.callbacks.ModelCheckpoint(\n",
    "#         filepath=r\"C:\\vscodeproject\\Python\\EE992\\model_weight\\model3_augmented_best_val_loss_transfer_learning.h5\", \n",
    "#         save_best_only=True, \n",
    "#         verbose=1,\n",
    "#         monitor='val_loss', \n",
    "#         mode='min'           \n",
    "#     )]\n",
    "\n",
    "\n",
    "# callback2=[tf.keras.callbacks.ReduceLROnPlateau(\n",
    "#     monitor='val_loss',\n",
    "#     factor=0.1,\n",
    "#     patience=10,\n",
    "#     verbose=0,\n",
    "#     mode='auto',\n",
    "#     min_delta=0.0001,\n",
    "#     cooldown=0,\n",
    "#     min_lr=0.0,\n",
    "# )]\n",
    "\n",
    "\n",
    "\n",
    "# history3 = model3.fit_generator(\n",
    "#     train_generator,\n",
    "#     # steps_per_epoch=1000,\n",
    "#     epochs=10,\n",
    "\n",
    "#     validation_data=(x_val,y_val),\n",
    "#     callbacks=[callbacks1,callback2],  \n",
    "#     verbose=1,\n",
    "#     shuffle=False\n",
    "# )\n"
   ]
  },
  {
   "cell_type": "markdown",
   "metadata": {},
   "source": [
    "## Step3 : Visualisation of the validation and training sets of the loss and accuracy"
   ]
  },
  {
   "cell_type": "markdown",
   "metadata": {},
   "source": [
    "- *plot the training and validation accuracy and loss at each epoch*"
   ]
  },
  {
   "cell_type": "code",
   "execution_count": 33,
   "metadata": {},
   "outputs": [
    {
     "data": {
      "image/png": "[encoded data removed]",
      "text/plain": [
       "<Figure size 640x480 with 1 Axes>"
      ]
     },
     "metadata": {},
     "output_type": "display_data"
    }
   ],
   "source": [
    "loss = history3.history['loss']\n",
    "val_loss = history3.history['val_loss']\n",
    "epochs = range(1, len(loss) + 1)\n",
    "plt.plot(epochs, loss, 'y', label='Training loss')\n",
    "plt.plot(epochs, val_loss, 'r', label='Validation loss')\n",
    "plt.title('Training and validation loss')\n",
    "plt.xlabel('Epochs')\n",
    "plt.ylabel('Loss')\n",
    "plt.legend()\n",
    "plt.show()"
   ]
  },
  {
   "cell_type": "markdown",
   "metadata": {},
   "source": [
    "\n",
    "*(These are just the logbook contents record my progressed processing based on the plot. Ticket means what I have done)*\n",
    "\n",
    "- *Adding more layers*\n",
    "\n",
    "- *Regularisation(dropout etc)*\n",
    "\n",
    "- *Data augmentation ✔*"
   ]
  },
  {
   "cell_type": "code",
   "execution_count": 34,
   "metadata": {},
   "outputs": [
    {
     "data": {
      "image/png": "[encoded data removed]",
      "text/plain": [
       "<Figure size 640x480 with 1 Axes>"
      ]
     },
     "metadata": {},
     "output_type": "display_data"
    }
   ],
   "source": [
    "\n",
    "acc = history3.history['accuracy']\n",
    "val_acc = history3.history['val_accuracy']\n",
    "\n",
    "plt.plot(epochs, acc, 'y', label='Training accuracy')\n",
    "plt.plot(epochs, val_acc, 'r', label='Validation accuracy')\n",
    "plt.title('Training and validation accuracy')\n",
    "plt.xlabel('Epochs')\n",
    "plt.ylabel('Accuracy')\n",
    "plt.legend()\n",
    "plt.show()"
   ]
  },
  {
   "cell_type": "markdown",
   "metadata": {},
   "source": [
    "## Step 4: Evaluate the training model on testing set"
   ]
  },
  {
   "cell_type": "code",
   "execution_count": 35,
   "metadata": {},
   "outputs": [
    {
     "name": "stdout",
     "output_type": "stream",
     "text": [
      "313/313 [==============================] - 3s 9ms/step\n"
     ]
    }
   ],
   "source": [
    "y_pred = model3.predict(x_test)\n",
    "y_pred_classes = np.argmax(y_pred, axis=1) # Using argmax can return the index of the one-hot vector so that it can tell the certain type of the prediction class\n",
    "y_true = np.argmax(y_test, axis=1)"
   ]
  },
  {
   "cell_type": "code",
   "execution_count": 36,
   "metadata": {},
   "outputs": [
    {
     "name": "stdout",
     "output_type": "stream",
     "text": [
      "The shape of y_pred is: (10000,)\n",
      "The shape of y_true is: (10000,)\n"
     ]
    }
   ],
   "source": [
    "print(f'The shape of y_pred is:', y_pred_classes.shape)\n",
    "print(f'The shape of y_true is:', y_true.shape)"
   ]
  },
  {
   "cell_type": "code",
   "execution_count": 37,
   "metadata": {},
   "outputs": [
    {
     "data": {
      "text/plain": [
       "array([49, 33, 72, ..., 51, 42, 70], dtype=int64)"
      ]
     },
     "execution_count": 37,
     "metadata": {},
     "output_type": "execute_result"
    }
   ],
   "source": [
    "y_true"
   ]
  },
  {
   "cell_type": "code",
   "execution_count": 38,
   "metadata": {},
   "outputs": [
    {
     "name": "stdout",
     "output_type": "stream",
     "text": [
      "Sample 1:\n",
      "  True Label: mountain\n",
      "  Predicted Label: dolphin\n",
      "  Correct: False\n",
      "\n",
      "Sample 2:\n",
      "  True Label: forest\n",
      "  Predicted Label: forest\n",
      "  Correct: True\n",
      "\n",
      "Sample 3:\n",
      "  True Label: seal\n",
      "  Predicted Label: crocodile\n",
      "  Correct: False\n",
      "\n",
      "Sample 4:\n",
      "  True Label: mushroom\n",
      "  Predicted Label: bus\n",
      "  Correct: False\n",
      "\n",
      "Sample 5:\n",
      "  True Label: sea\n",
      "  Predicted Label: sea\n",
      "  Correct: True\n",
      "\n",
      "Sample 6:\n",
      "  True Label: tulip\n",
      "  Predicted Label: spider\n",
      "  Correct: False\n",
      "\n",
      "Sample 7:\n",
      "  True Label: camel\n",
      "  Predicted Label: turtle\n",
      "  Correct: False\n",
      "\n",
      "Sample 8:\n",
      "  True Label: butterfly\n",
      "  Predicted Label: shrew\n",
      "  Correct: False\n",
      "\n",
      "Sample 9:\n",
      "  True Label: cloud\n",
      "  Predicted Label: mountain\n",
      "  Correct: False\n",
      "\n",
      "Sample 10:\n",
      "  True Label: apple\n",
      "  Predicted Label: apple\n",
      "  Correct: True\n",
      "\n"
     ]
    }
   ],
   "source": [
    "# Printing the testing sample\n",
    "num_samples = 10 # It is adjustable, can be changed to different number from 0-10000.\n",
    "for i in range(num_samples):\n",
    "    true_label = fine_label_names[y_true[i]]  # The true label name\n",
    "    pred_label = fine_label_names[y_pred_classes[i]]  # The predicted type name\n",
    "    print(f\"Sample {i+1}:\")\n",
    "    print(f\"  True Label: {true_label}\")\n",
    "    print(f\"  Predicted Label: {pred_label}\")\n",
    "    print(f\"  Correct: {true_label == pred_label}\\n\")"
   ]
  },
  {
   "cell_type": "markdown",
   "metadata": {},
   "source": [
    "- *Visualization the images and categories*"
   ]
  },
  {
   "cell_type": "code",
   "execution_count": 39,
   "metadata": {},
   "outputs": [
    {
     "data": {
      "image/png": "[encoded data removed]",
      "text/plain": [
       "<Figure size 1500x500 with 10 Axes>"
      ]
     },
     "metadata": {},
     "output_type": "display_data"
    }
   ],
   "source": [
    "# Visualisation of the images and categories for the first 10 images\n",
    "plt.figure(figsize=(15, 5))\n",
    "for i in range(num_samples):\n",
    "    plt.subplot(2, 5, i+1)\n",
    "    plt.imshow(x_test[i])  # Showing the x_test data images\n",
    "    true_label = fine_label_names[y_true[i]] # showing the true label catergories\n",
    "    pred_label = fine_label_names[y_pred_classes[i]] # showing the prediction catergories\n",
    "    plt.title(f\"True: {true_label}\\nPred: {pred_label}\", fontsize=10)\n",
    "    plt.axis('off')\n",
    "plt.tight_layout()\n",
    "plt.show()"
   ]
  },
  {
   "cell_type": "markdown",
   "metadata": {},
   "source": [
    "Script(record the operations that I have tried):\n",
    "- 1. After adding data augmentation the correct item improved from 1 to 2.\n",
    "- 2. After optimizing the data augmentation hyperparameters such as the rotation_range from 45% to 15%, the correct itemes improved from 2 to 4."
   ]
  },
  {
   "cell_type": "markdown",
   "metadata": {},
   "source": [
    "## *Step5: Confusion matrix visualisation and classification report*"
   ]
  },
  {
   "cell_type": "code",
   "execution_count": 40,
   "metadata": {},
   "outputs": [
    {
     "data": {
      "image/png": "[encoded data removed]",
      "text/plain": [
       "<Figure size 1000x800 with 2 Axes>"
      ]
     },
     "metadata": {},
     "output_type": "display_data"
    }
   ],
   "source": [
    "# Compute the confusion matrix\n",
    "cm = confusion_matrix(y_true, y_pred_classes)\n",
    "\n",
    "# Find the top 10 catergories for better visualization the 100 X 100 confusion matrix otherwise it will be too dense to see the matrix.\n",
    "top_k = 10\n",
    "# Calculate the total number of predictions for each category (off-diagonal sum)\n",
    "pred_counts = cm.sum(axis=0)  #  The sum of each column, indicating the total number projected for the category\n",
    "top_k_indices = np.argsort(pred_counts)[-top_k:]  # Index of the top 10 most predicted categories\n",
    "\n",
    "# Extracting the sub confusion matrix\n",
    "sub_cm = cm[np.ix_(top_k_indices, top_k_indices)]\n",
    "sub_label_names = [label_names[i] for i in top_k_indices]\n",
    "\n",
    "# Visualiza the sub confusion matrix\n",
    "plt.figure(figsize=(10, 8))\n",
    "sns.heatmap(sub_cm, annot=True, fmt='d', cmap='Blues', xticklabels=sub_label_names, yticklabels=sub_label_names)\n",
    "plt.title('Confusion Matrix (Top 10 Predicted Classes)')\n",
    "plt.xlabel('Predicted Label')\n",
    "plt.ylabel('True Label')\n",
    "plt.xticks(rotation=45)\n",
    "plt.yticks(rotation=0)\n",
    "plt.show()"
   ]
  },
  {
   "cell_type": "code",
   "execution_count": 41,
   "metadata": {},
   "outputs": [
    {
     "name": "stdout",
     "output_type": "stream",
     "text": [
      "               precision    recall  f1-score   support\n",
      "\n",
      "        apple       0.77      0.72      0.75       100\n",
      "aquarium_fish       0.56      0.71      0.63       100\n",
      "         baby       0.51      0.35      0.42       100\n",
      "         bear       0.35      0.30      0.32       100\n",
      "       beaver       0.26      0.43      0.33       100\n",
      "          bed       0.55      0.56      0.55       100\n",
      "          bee       0.54      0.70      0.61       100\n",
      "       beetle       0.42      0.70      0.52       100\n",
      "      bicycle       0.50      0.75      0.60       100\n",
      "       bottle       0.80      0.61      0.69       100\n",
      "         bowl       0.39      0.37      0.38       100\n",
      "          boy       0.42      0.26      0.32       100\n",
      "       bridge       0.53      0.61      0.57       100\n",
      "          bus       0.41      0.52      0.46       100\n",
      "    butterfly       0.37      0.59      0.45       100\n",
      "        camel       0.57      0.38      0.46       100\n",
      "          can       0.57      0.58      0.58       100\n",
      "       castle       0.64      0.72      0.68       100\n",
      "  caterpillar       0.38      0.41      0.39       100\n",
      "       cattle       0.45      0.48      0.47       100\n",
      "        chair       0.73      0.83      0.78       100\n",
      "   chimpanzee       0.64      0.64      0.64       100\n",
      "        clock       0.40      0.62      0.49       100\n",
      "        cloud       0.84      0.63      0.72       100\n",
      "    cockroach       0.73      0.72      0.72       100\n",
      "        couch       0.51      0.39      0.44       100\n",
      "         crab       0.39      0.57      0.47       100\n",
      "    crocodile       0.41      0.31      0.35       100\n",
      "          cup       0.67      0.73      0.70       100\n",
      "     dinosaur       0.56      0.55      0.56       100\n",
      "      dolphin       0.62      0.52      0.57       100\n",
      "     elephant       0.60      0.53      0.56       100\n",
      "     flatfish       0.61      0.43      0.50       100\n",
      "       forest       0.31      0.61      0.41       100\n",
      "          fox       0.57      0.40      0.47       100\n",
      "         girl       0.30      0.31      0.31       100\n",
      "      hamster       0.66      0.47      0.55       100\n",
      "        house       0.55      0.48      0.51       100\n",
      "     kangaroo       0.43      0.28      0.34       100\n",
      "     keyboard       0.73      0.73      0.73       100\n",
      "         lamp       0.49      0.39      0.44       100\n",
      "   lawn_mower       0.72      0.66      0.69       100\n",
      "      leopard       0.33      0.76      0.46       100\n",
      "         lion       0.65      0.52      0.58       100\n",
      "       lizard       0.32      0.32      0.32       100\n",
      "      lobster       0.34      0.50      0.40       100\n",
      "          man       0.41      0.31      0.35       100\n",
      "   maple_tree       0.52      0.64      0.57       100\n",
      "   motorcycle       0.62      0.87      0.72       100\n",
      "     mountain       0.72      0.59      0.65       100\n",
      "        mouse       0.40      0.38      0.39       100\n",
      "     mushroom       0.55      0.46      0.50       100\n",
      "     oak_tree       0.56      0.61      0.59       100\n",
      "       orange       0.80      0.78      0.79       100\n",
      "       orchid       0.75      0.48      0.59       100\n",
      "        otter       0.25      0.13      0.17       100\n",
      "    palm_tree       0.86      0.76      0.81       100\n",
      "         pear       0.65      0.62      0.63       100\n",
      " pickup_truck       0.70      0.57      0.63       100\n",
      "    pine_tree       0.62      0.53      0.57       100\n",
      "        plain       0.83      0.71      0.76       100\n",
      "        plate       0.56      0.61      0.59       100\n",
      "        poppy       0.57      0.60      0.59       100\n",
      "    porcupine       0.53      0.48      0.50       100\n",
      "       possum       0.28      0.37      0.32       100\n",
      "       rabbit       0.41      0.26      0.32       100\n",
      "      raccoon       0.56      0.49      0.52       100\n",
      "          ray       0.45      0.35      0.40       100\n",
      "         road       0.89      0.76      0.82       100\n",
      "       rocket       0.74      0.65      0.69       100\n",
      "         rose       0.64      0.60      0.62       100\n",
      "          sea       0.73      0.64      0.68       100\n",
      "         seal       0.28      0.21      0.24       100\n",
      "        shark       0.48      0.41      0.44       100\n",
      "        shrew       0.37      0.33      0.35       100\n",
      "        skunk       0.86      0.67      0.75       100\n",
      "   skyscraper       0.75      0.76      0.76       100\n",
      "        snail       0.46      0.29      0.36       100\n",
      "        snake       0.32      0.35      0.33       100\n",
      "       spider       0.62      0.63      0.62       100\n",
      "     squirrel       0.53      0.24      0.33       100\n",
      "    streetcar       0.51      0.68      0.58       100\n",
      "    sunflower       0.85      0.75      0.80       100\n",
      " sweet_pepper       0.38      0.57      0.46       100\n",
      "        table       0.46      0.53      0.50       100\n",
      "         tank       0.65      0.69      0.67       100\n",
      "    telephone       0.67      0.57      0.62       100\n",
      "   television       0.63      0.62      0.63       100\n",
      "        tiger       0.44      0.61      0.51       100\n",
      "      tractor       0.53      0.62      0.57       100\n",
      "        train       0.73      0.44      0.55       100\n",
      "        trout       0.70      0.62      0.66       100\n",
      "        tulip       0.45      0.41      0.43       100\n",
      "       turtle       0.30      0.35      0.33       100\n",
      "     wardrobe       0.64      0.85      0.73       100\n",
      "        whale       0.60      0.61      0.61       100\n",
      "  willow_tree       0.47      0.38      0.42       100\n",
      "         wolf       0.55      0.53      0.54       100\n",
      "        woman       0.34      0.16      0.22       100\n",
      "         worm       0.55      0.57      0.56       100\n",
      "\n",
      "     accuracy                           0.53     10000\n",
      "    macro avg       0.55      0.53      0.53     10000\n",
      " weighted avg       0.55      0.53      0.53     10000\n",
      "\n"
     ]
    }
   ],
   "source": [
    "# The classification report\n",
    "report = classification_report(y_true, y_pred_classes, target_names=label_names)\n",
    "print(report) # Precision =TP/ TP+FP ; Recall = TP/TP+FN"
   ]
  },
  {
   "cell_type": "code",
   "execution_count": 42,
   "metadata": {},
   "outputs": [
    {
     "name": "stdout",
     "output_type": "stream",
     "text": [
      "313/313 [==============================] - 5s 14ms/step - loss: 2.4343 - accuracy: 0.5335\n",
      "Test Loss: 2.4343\n",
      "Test Accuracy: 0.5335\n"
     ]
    }
   ],
   "source": [
    "test_loss, test_accuracy = model3.evaluate(x_test, y_test, verbose=1)\n",
    "print(f\"Test Loss: {test_loss:.4f}\")\n",
    "print(f\"Test Accuracy: {test_accuracy:.4f}\")"
   ]
  }
 ],
 "metadata": {
  "kernelspec": {
   "display_name": "Unet",
   "language": "python",
   "name": "python3"
  },
  "language_info": {
   "codemirror_mode": {
    "name": "ipython",
    "version": 3
   },
   "file_extension": ".py",
   "mimetype": "text/x-python",
   "name": "python",
   "nbconvert_exporter": "python",
   "pygments_lexer": "ipython3",
   "version": "3.10.16"
  }
 },
 "nbformat": 4,
 "nbformat_minor": 2
}
